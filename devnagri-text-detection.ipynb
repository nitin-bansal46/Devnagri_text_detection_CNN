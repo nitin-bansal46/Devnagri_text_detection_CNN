{
 "cells": [
  {
   "cell_type": "code",
   "execution_count": 1,
   "metadata": {
    "_cell_guid": "b1076dfc-b9ad-4769-8c92-a6c4dae69d19",
    "_uuid": "8f2839f25d086af736a60e9eeb907d3b93b6e0e5",
    "execution": {
     "iopub.execute_input": "2021-06-02T04:25:25.424848Z",
     "iopub.status.busy": "2021-06-02T04:25:25.424355Z",
     "iopub.status.idle": "2021-06-02T04:28:26.595916Z",
     "shell.execute_reply": "2021-06-02T04:28:26.554959Z",
     "shell.execute_reply.started": "2021-06-02T04:25:25.424762Z"
    },
    "jupyter": {
     "outputs_hidden": true
    }
   },
   "outputs": [],
   "source": [
    "# This Python 3 environment comes with many helpful analytics libraries installed\n",
    "# It is defined by the kaggle/python Docker image: https://github.com/kaggle/docker-python\n",
    "# For example, here's several helpful packages to load\n",
    "\n",
    "import numpy as np # linear algebra\n",
    "import pandas as pd # data processing, CSV file I/O (e.g. pd.read_csv)\n",
    "\n",
    "# Input data files are available in the read-only \"../input/\" directory\n",
    "# For example, running this (by clicking run or pressing Shift+Enter) will list all files under the input directory\n",
    "\n",
    "import os\n",
    "#for dirname, _, filenames in os.walk('/kaggle/input'):\n",
    "#    for filename in filenames:\n",
    "#        print(os.path.join(dirname, filename))\n",
    "\n",
    "# You can write up to 20GB to the current directory (/kaggle/working/) that gets preserved as output when you create a version using \"Save & Run All\" \n",
    "# You can also write temporary files to /kaggle/temp/, but they won't be saved outside of the current session"
   ]
  },
  {
   "cell_type": "code",
   "execution_count": 2,
   "metadata": {
    "execution": {
     "iopub.execute_input": "2021-06-02T04:31:49.66464Z",
     "iopub.status.busy": "2021-06-02T04:31:49.664266Z",
     "iopub.status.idle": "2021-06-02T04:31:49.673057Z",
     "shell.execute_reply": "2021-06-02T04:31:49.671793Z",
     "shell.execute_reply.started": "2021-06-02T04:31:49.66461Z"
    }
   },
   "outputs": [],
   "source": [
    "import matplotlib.pyplot as plt\n",
    "import seaborn as sns\n",
    "from matplotlib.image import imread\n",
    "%matplotlib inline"
   ]
  },
  {
   "cell_type": "code",
   "execution_count": 6,
   "metadata": {
    "execution": {
     "iopub.execute_input": "2021-06-02T04:31:51.894938Z",
     "iopub.status.busy": "2021-06-02T04:31:51.894557Z",
     "iopub.status.idle": "2021-06-02T04:31:51.899492Z",
     "shell.execute_reply": "2021-06-02T04:31:51.898153Z",
     "shell.execute_reply.started": "2021-06-02T04:31:51.894906Z"
    }
   },
   "outputs": [],
   "source": [
    "data_dir = (\"C:\\\\Users\\\\Himanshi Bansal\\\\Downloads\\\\archive\\\\DevanagariHandwrittenCharacterDataset\\\\DevanagariHandwrittenCharacterDataset\")"
   ]
  },
  {
   "cell_type": "code",
   "execution_count": 7,
   "metadata": {
    "execution": {
     "iopub.execute_input": "2021-06-02T04:31:53.215424Z",
     "iopub.status.busy": "2021-06-02T04:31:53.215009Z",
     "iopub.status.idle": "2021-06-02T04:31:53.227923Z",
     "shell.execute_reply": "2021-06-02T04:31:53.226514Z",
     "shell.execute_reply.started": "2021-06-02T04:31:53.215392Z"
    }
   },
   "outputs": [
    {
     "data": {
      "text/plain": [
       "['Test', 'Train']"
      ]
     },
     "execution_count": 7,
     "metadata": {},
     "output_type": "execute_result"
    }
   ],
   "source": [
    "os.listdir(data_dir)"
   ]
  },
  {
   "cell_type": "code",
   "execution_count": 8,
   "metadata": {
    "execution": {
     "iopub.execute_input": "2021-06-02T04:31:55.59958Z",
     "iopub.status.busy": "2021-06-02T04:31:55.599199Z",
     "iopub.status.idle": "2021-06-02T04:31:55.605024Z",
     "shell.execute_reply": "2021-06-02T04:31:55.603748Z",
     "shell.execute_reply.started": "2021-06-02T04:31:55.599549Z"
    }
   },
   "outputs": [],
   "source": [
    "train_dir = (data_dir + '//Train')\n",
    "test_dir = (data_dir + '//Test')"
   ]
  },
  {
   "cell_type": "code",
   "execution_count": 9,
   "metadata": {
    "execution": {
     "iopub.execute_input": "2021-06-02T04:31:56.604601Z",
     "iopub.status.busy": "2021-06-02T04:31:56.604242Z",
     "iopub.status.idle": "2021-06-02T04:31:56.613151Z",
     "shell.execute_reply": "2021-06-02T04:31:56.611863Z",
     "shell.execute_reply.started": "2021-06-02T04:31:56.60457Z"
    }
   },
   "outputs": [
    {
     "data": {
      "text/plain": [
       "46"
      ]
     },
     "execution_count": 9,
     "metadata": {},
     "output_type": "execute_result"
    }
   ],
   "source": [
    "len(os.listdir(train_dir))"
   ]
  },
  {
   "cell_type": "code",
   "execution_count": 10,
   "metadata": {
    "execution": {
     "iopub.execute_input": "2021-06-02T04:31:58.53493Z",
     "iopub.status.busy": "2021-06-02T04:31:58.534564Z",
     "iopub.status.idle": "2021-06-02T04:31:58.539893Z",
     "shell.execute_reply": "2021-06-02T04:31:58.538443Z",
     "shell.execute_reply.started": "2021-06-02T04:31:58.534891Z"
    }
   },
   "outputs": [],
   "source": [
    "sample = (train_dir + '/digit_8/' + '/10308.png')"
   ]
  },
  {
   "cell_type": "code",
   "execution_count": 11,
   "metadata": {
    "execution": {
     "iopub.execute_input": "2021-06-02T04:32:01.714559Z",
     "iopub.status.busy": "2021-06-02T04:32:01.714201Z",
     "iopub.status.idle": "2021-06-02T04:32:01.920622Z",
     "shell.execute_reply": "2021-06-02T04:32:01.919523Z",
     "shell.execute_reply.started": "2021-06-02T04:32:01.714529Z"
    }
   },
   "outputs": [
    {
     "data": {
      "text/plain": [
       "<matplotlib.image.AxesImage at 0x1bc6ba84850>"
      ]
     },
     "execution_count": 11,
     "metadata": {},
     "output_type": "execute_result"
    },
    {
     "data": {
      "image/png": "[encoded data removed]",
      "text/plain": [
       "<Figure size 432x288 with 1 Axes>"
      ]
     },
     "metadata": {
      "needs_background": "light"
     },
     "output_type": "display_data"
    }
   ],
   "source": [
    "plt.imshow(imread(sample))"
   ]
  },
  {
   "cell_type": "code",
   "execution_count": 12,
   "metadata": {
    "execution": {
     "iopub.execute_input": "2021-06-02T04:32:03.494946Z",
     "iopub.status.busy": "2021-06-02T04:32:03.494573Z",
     "iopub.status.idle": "2021-06-02T04:32:09.09033Z",
     "shell.execute_reply": "2021-06-02T04:32:09.089228Z",
     "shell.execute_reply.started": "2021-06-02T04:32:03.494915Z"
    }
   },
   "outputs": [],
   "source": [
    "from tensorflow.keras.preprocessing.image import ImageDataGenerator"
   ]
  },
  {
   "cell_type": "code",
   "execution_count": 13,
   "metadata": {
    "execution": {
     "iopub.execute_input": "2021-06-02T04:32:09.092715Z",
     "iopub.status.busy": "2021-06-02T04:32:09.092267Z",
     "iopub.status.idle": "2021-06-02T04:32:09.098906Z",
     "shell.execute_reply": "2021-06-02T04:32:09.097584Z",
     "shell.execute_reply.started": "2021-06-02T04:32:09.092671Z"
    }
   },
   "outputs": [],
   "source": [
    "image_gen = ImageDataGenerator(shear_range=0.1, zoom_range=0.2,horizontal_flip=False,fill_mode= 'nearest', rescale=1/255)"
   ]
  },
  {
   "cell_type": "code",
   "execution_count": 14,
   "metadata": {
    "execution": {
     "iopub.execute_input": "2021-06-02T04:32:12.305086Z",
     "iopub.status.busy": "2021-06-02T04:32:12.304642Z",
     "iopub.status.idle": "2021-06-02T04:32:12.484883Z",
     "shell.execute_reply": "2021-06-02T04:32:12.483389Z",
     "shell.execute_reply.started": "2021-06-02T04:32:12.305053Z"
    }
   },
   "outputs": [
    {
     "data": {
      "text/plain": [
       "<matplotlib.image.AxesImage at 0x1bc722c5df0>"
      ]
     },
     "execution_count": 14,
     "metadata": {},
     "output_type": "execute_result"
    },
    {
     "data": {
      "image/png": "[encoded data removed]",
      "text/plain": [
       "<Figure size 432x288 with 1 Axes>"
      ]
     },
     "metadata": {
      "needs_background": "light"
     },
     "output_type": "display_data"
    }
   ],
   "source": [
    "sample_img = (imread(sample))\n",
    "sample_img = sample_img.reshape(32,32,1)\n",
    "plt.imshow(sample_img)"
   ]
  },
  {
   "cell_type": "code",
   "execution_count": 15,
   "metadata": {
    "execution": {
     "iopub.execute_input": "2021-06-02T04:32:14.68463Z",
     "iopub.status.busy": "2021-06-02T04:32:14.684259Z",
     "iopub.status.idle": "2021-06-02T04:32:14.997835Z",
     "shell.execute_reply": "2021-06-02T04:32:14.996514Z",
     "shell.execute_reply.started": "2021-06-02T04:32:14.684599Z"
    }
   },
   "outputs": [
    {
     "data": {
      "text/plain": [
       "<matplotlib.image.AxesImage at 0x1bc7232bbe0>"
      ]
     },
     "execution_count": 15,
     "metadata": {},
     "output_type": "execute_result"
    },
    {
     "data": {
      "image/png": "[encoded data removed]",
      "text/plain": [
       "<Figure size 432x288 with 1 Axes>"
      ]
     },
     "metadata": {
      "needs_background": "light"
     },
     "output_type": "display_data"
    }
   ],
   "source": [
    "plt.imshow(image_gen.random_transform(sample_img))"
   ]
  },
  {
   "cell_type": "code",
   "execution_count": 16,
   "metadata": {
    "execution": {
     "iopub.execute_input": "2021-06-02T04:32:16.39584Z",
     "iopub.status.busy": "2021-06-02T04:32:16.395482Z",
     "iopub.status.idle": "2021-06-02T04:32:22.373476Z",
     "shell.execute_reply": "2021-06-02T04:32:22.372407Z",
     "shell.execute_reply.started": "2021-06-02T04:32:16.395808Z"
    }
   },
   "outputs": [
    {
     "name": "stdout",
     "output_type": "stream",
     "text": [
      "Found 78200 images belonging to 46 classes.\n"
     ]
    }
   ],
   "source": [
    "train_data = image_gen.flow_from_directory(train_dir, target_size=(32,32), color_mode='grayscale')"
   ]
  },
  {
   "cell_type": "code",
   "execution_count": 17,
   "metadata": {
    "execution": {
     "iopub.execute_input": "2021-06-02T04:32:22.37687Z",
     "iopub.status.busy": "2021-06-02T04:32:22.376405Z",
     "iopub.status.idle": "2021-06-02T04:32:23.456305Z",
     "shell.execute_reply": "2021-06-02T04:32:23.454203Z",
     "shell.execute_reply.started": "2021-06-02T04:32:22.376832Z"
    }
   },
   "outputs": [
    {
     "name": "stdout",
     "output_type": "stream",
     "text": [
      "Found 13800 images belonging to 46 classes.\n"
     ]
    }
   ],
   "source": [
    "test_data = image_gen.flow_from_directory(test_dir, target_size=(32,32), shuffle=False, color_mode = 'grayscale')"
   ]
  },
  {
   "cell_type": "code",
   "execution_count": 18,
   "metadata": {
    "execution": {
     "iopub.execute_input": "2021-06-02T04:32:27.695991Z",
     "iopub.status.busy": "2021-06-02T04:32:27.69564Z",
     "iopub.status.idle": "2021-06-02T04:32:27.703236Z",
     "shell.execute_reply": "2021-06-02T04:32:27.70198Z",
     "shell.execute_reply.started": "2021-06-02T04:32:27.695962Z"
    }
   },
   "outputs": [],
   "source": [
    "from tensorflow.keras.models import Sequential"
   ]
  },
  {
   "cell_type": "code",
   "execution_count": 19,
   "metadata": {
    "execution": {
     "iopub.execute_input": "2021-06-02T04:32:29.674634Z",
     "iopub.status.busy": "2021-06-02T04:32:29.674262Z",
     "iopub.status.idle": "2021-06-02T04:32:29.680605Z",
     "shell.execute_reply": "2021-06-02T04:32:29.678989Z",
     "shell.execute_reply.started": "2021-06-02T04:32:29.674603Z"
    }
   },
   "outputs": [],
   "source": [
    "from tensorflow.keras.layers import Conv2D,MaxPool2D,Dense,Flatten,Dropout"
   ]
  },
  {
   "cell_type": "code",
   "execution_count": 31,
   "metadata": {
    "execution": {
     "iopub.execute_input": "2021-06-02T04:32:34.074893Z",
     "iopub.status.busy": "2021-06-02T04:32:34.074524Z",
     "iopub.status.idle": "2021-06-02T04:32:36.613027Z",
     "shell.execute_reply": "2021-06-02T04:32:36.611962Z",
     "shell.execute_reply.started": "2021-06-02T04:32:34.074861Z"
    }
   },
   "outputs": [],
   "source": [
    "model = Sequential()\n",
    "\n",
    "model.add(Conv2D(filters = 32, kernel_size = (4,4), input_shape = (32,32,1), activation = 'relu'))\n",
    "model.add(MaxPool2D(pool_size=(2,2)))\n",
    "\n",
    "model.add(Conv2D(filters = 64, kernel_size = (4,4), input_shape = (32,32,1), activation = 'relu'))\n",
    "model.add(MaxPool2D(pool_size=(2,2)))\n",
    "\n",
    "model.add(Conv2D(filters = 64, kernel_size = (4,4), input_shape = (32,32,1), activation = 'relu'))\n",
    "model.add(MaxPool2D(pool_size=(2,2)))\n",
    "\n",
    "model.add(Flatten())\n",
    "\n",
    "model.add(Dense(128, activation = 'relu'))\n",
    "model.add(Dropout(0.5))\n",
    "\n",
    "model.add(Dense(84, activation = 'relu'))\n",
    "\n",
    "model.add(Dense(46, activation = 'softmax'))\n",
    "\n",
    "model.compile(optimizer='adam', loss = 'categorical_crossentropy', metrics = ['accuracy'])"
   ]
  },
  {
   "cell_type": "code",
   "execution_count": 32,
   "metadata": {
    "execution": {
     "iopub.execute_input": "2021-06-02T04:32:37.414464Z",
     "iopub.status.busy": "2021-06-02T04:32:37.414066Z",
     "iopub.status.idle": "2021-06-02T04:32:37.429811Z",
     "shell.execute_reply": "2021-06-02T04:32:37.428585Z",
     "shell.execute_reply.started": "2021-06-02T04:32:37.414432Z"
    }
   },
   "outputs": [
    {
     "name": "stdout",
     "output_type": "stream",
     "text": [
      "Model: \"sequential_1\"\n",
      "_________________________________________________________________\n",
      "Layer (type)                 Output Shape              Param #   \n",
      "=================================================================\n",
      "conv2d_3 (Conv2D)            (None, 29, 29, 32)        544       \n",
      "_________________________________________________________________\n",
      "max_pooling2d_3 (MaxPooling2 (None, 14, 14, 32)        0         \n",
      "_________________________________________________________________\n",
      "conv2d_4 (Conv2D)            (None, 11, 11, 64)        32832     \n",
      "_________________________________________________________________\n",
      "max_pooling2d_4 (MaxPooling2 (None, 5, 5, 64)          0         \n",
      "_________________________________________________________________\n",
      "conv2d_5 (Conv2D)            (None, 2, 2, 64)          65600     \n",
      "_________________________________________________________________\n",
      "max_pooling2d_5 (MaxPooling2 (None, 1, 1, 64)          0         \n",
      "_________________________________________________________________\n",
      "flatten_1 (Flatten)          (None, 64)                0         \n",
      "_________________________________________________________________\n",
      "dense_3 (Dense)              (None, 128)               8320      \n",
      "_________________________________________________________________\n",
      "dropout_1 (Dropout)          (None, 128)               0         \n",
      "_________________________________________________________________\n",
      "dense_4 (Dense)              (None, 84)                10836     \n",
      "_________________________________________________________________\n",
      "dense_5 (Dense)              (None, 46)                3910      \n",
      "=================================================================\n",
      "Total params: 122,042\n",
      "Trainable params: 122,042\n",
      "Non-trainable params: 0\n",
      "_________________________________________________________________\n"
     ]
    }
   ],
   "source": [
    "model.summary()"
   ]
  },
  {
   "cell_type": "code",
   "execution_count": 33,
   "metadata": {
    "execution": {
     "iopub.execute_input": "2021-06-02T04:32:51.824865Z",
     "iopub.status.busy": "2021-06-02T04:32:51.824553Z",
     "iopub.status.idle": "2021-06-02T04:32:51.830058Z",
     "shell.execute_reply": "2021-06-02T04:32:51.828426Z",
     "shell.execute_reply.started": "2021-06-02T04:32:51.824838Z"
    }
   },
   "outputs": [],
   "source": [
    "from tensorflow.keras.callbacks import EarlyStopping"
   ]
  },
  {
   "cell_type": "code",
   "execution_count": 34,
   "metadata": {
    "execution": {
     "iopub.execute_input": "2021-06-02T04:32:54.004486Z",
     "iopub.status.busy": "2021-06-02T04:32:54.004136Z",
     "iopub.status.idle": "2021-06-02T04:32:54.010282Z",
     "shell.execute_reply": "2021-06-02T04:32:54.008668Z",
     "shell.execute_reply.started": "2021-06-02T04:32:54.004458Z"
    }
   },
   "outputs": [],
   "source": [
    "early_stop = EarlyStopping(monitor='val_loss', patience=2)"
   ]
  },
  {
   "cell_type": "code",
   "execution_count": 35,
   "metadata": {
    "execution": {
     "iopub.execute_input": "2021-06-02T04:32:56.134647Z",
     "iopub.status.busy": "2021-06-02T04:32:56.134256Z",
     "iopub.status.idle": "2021-06-02T04:32:56.143023Z",
     "shell.execute_reply": "2021-06-02T04:32:56.141653Z",
     "shell.execute_reply.started": "2021-06-02T04:32:56.134618Z"
    }
   },
   "outputs": [
    {
     "data": {
      "text/plain": [
       "{'character_10_yna': 0,\n",
       " 'character_11_taamatar': 1,\n",
       " 'character_12_thaa': 2,\n",
       " 'character_13_daa': 3,\n",
       " 'character_14_dhaa': 4,\n",
       " 'character_15_adna': 5,\n",
       " 'character_16_tabala': 6,\n",
       " 'character_17_tha': 7,\n",
       " 'character_18_da': 8,\n",
       " 'character_19_dha': 9,\n",
       " 'character_1_ka': 10,\n",
       " 'character_20_na': 11,\n",
       " 'character_21_pa': 12,\n",
       " 'character_22_pha': 13,\n",
       " 'character_23_ba': 14,\n",
       " 'character_24_bha': 15,\n",
       " 'character_25_ma': 16,\n",
       " 'character_26_yaw': 17,\n",
       " 'character_27_ra': 18,\n",
       " 'character_28_la': 19,\n",
       " 'character_29_waw': 20,\n",
       " 'character_2_kha': 21,\n",
       " 'character_30_motosaw': 22,\n",
       " 'character_31_petchiryakha': 23,\n",
       " 'character_32_patalosaw': 24,\n",
       " 'character_33_ha': 25,\n",
       " 'character_34_chhya': 26,\n",
       " 'character_35_tra': 27,\n",
       " 'character_36_gya': 28,\n",
       " 'character_3_ga': 29,\n",
       " 'character_4_gha': 30,\n",
       " 'character_5_kna': 31,\n",
       " 'character_6_cha': 32,\n",
       " 'character_7_chha': 33,\n",
       " 'character_8_ja': 34,\n",
       " 'character_9_jha': 35,\n",
       " 'digit_0': 36,\n",
       " 'digit_1': 37,\n",
       " 'digit_2': 38,\n",
       " 'digit_3': 39,\n",
       " 'digit_4': 40,\n",
       " 'digit_5': 41,\n",
       " 'digit_6': 42,\n",
       " 'digit_7': 43,\n",
       " 'digit_8': 44,\n",
       " 'digit_9': 45}"
      ]
     },
     "execution_count": 35,
     "metadata": {},
     "output_type": "execute_result"
    }
   ],
   "source": [
    "train_data.class_indices"
   ]
  },
  {
   "cell_type": "code",
   "execution_count": 36,
   "metadata": {
    "execution": {
     "iopub.execute_input": "2021-06-02T04:32:58.304452Z",
     "iopub.status.busy": "2021-06-02T04:32:58.304076Z"
    }
   },
   "outputs": [
    {
     "name": "stdout",
     "output_type": "stream",
     "text": [
      "Epoch 1/10\n",
      "2444/2444 [==============================] - 111s 45ms/step - loss: 1.2003 - accuracy: 0.6481 - val_loss: 0.3728 - val_accuracy: 0.8854\n",
      "Epoch 2/10\n",
      "2444/2444 [==============================] - 125s 51ms/step - loss: 0.4442 - accuracy: 0.8647 - val_loss: 0.2412 - val_accuracy: 0.9241\n",
      "Epoch 3/10\n",
      "2444/2444 [==============================] - 104s 42ms/step - loss: 0.3313 - accuracy: 0.8998 - val_loss: 0.2082 - val_accuracy: 0.9364\n",
      "Epoch 4/10\n",
      "2444/2444 [==============================] - 104s 43ms/step - loss: 0.2716 - accuracy: 0.9189 - val_loss: 0.1827 - val_accuracy: 0.9441\n",
      "Epoch 5/10\n",
      "2444/2444 [==============================] - 104s 43ms/step - loss: 0.2388 - accuracy: 0.9285 - val_loss: 0.1721 - val_accuracy: 0.9495\n",
      "Epoch 6/10\n",
      "2444/2444 [==============================] - 109s 45ms/step - loss: 0.2134 - accuracy: 0.9366 - val_loss: 0.1773 - val_accuracy: 0.9472\n",
      "Epoch 7/10\n",
      "2444/2444 [==============================] - 114s 47ms/step - loss: 0.1998 - accuracy: 0.9406 - val_loss: 0.1539 - val_accuracy: 0.9546\n",
      "Epoch 8/10\n",
      "2444/2444 [==============================] - 107s 44ms/step - loss: 0.1819 - accuracy: 0.9450 - val_loss: 0.1477 - val_accuracy: 0.9583\n",
      "Epoch 9/10\n",
      "2444/2444 [==============================] - 105s 43ms/step - loss: 0.1737 - accuracy: 0.9484 - val_loss: 0.1288 - val_accuracy: 0.9611\n",
      "Epoch 10/10\n",
      "2444/2444 [==============================] - 106s 43ms/step - loss: 0.1607 - accuracy: 0.9522 - val_loss: 0.1234 - val_accuracy: 0.9638\n"
     ]
    }
   ],
   "source": [
    "results = model.fit(train_data, epochs = 10, validation_data=(test_data), callbacks=[early_stop])"
   ]
  },
  {
   "cell_type": "code",
   "execution_count": 37,
   "metadata": {},
   "outputs": [],
   "source": [
    "metrics = pd.DataFrame(model.history.history)"
   ]
  },
  {
   "cell_type": "code",
   "execution_count": 38,
   "metadata": {},
   "outputs": [
    {
     "data": {
      "text/html": [
       "<div>\n",
       "<style scoped>\n",
       "    .dataframe tbody tr th:only-of-type {\n",
       "        vertical-align: middle;\n",
       "    }\n",
       "\n",
       "    .dataframe tbody tr th {\n",
       "        vertical-align: top;\n",
       "    }\n",
       "\n",
       "    .dataframe thead th {\n",
       "        text-align: right;\n",
       "    }\n",
       "</style>\n",
       "<table border=\"1\" class=\"dataframe\">\n",
       "  <thead>\n",
       "    <tr style=\"text-align: right;\">\n",
       "      <th></th>\n",
       "      <th>loss</th>\n",
       "      <th>accuracy</th>\n",
       "      <th>val_loss</th>\n",
       "      <th>val_accuracy</th>\n",
       "    </tr>\n",
       "  </thead>\n",
       "  <tbody>\n",
       "    <tr>\n",
       "      <th>0</th>\n",
       "      <td>1.200324</td>\n",
       "      <td>0.648146</td>\n",
       "      <td>0.372819</td>\n",
       "      <td>0.885435</td>\n",
       "    </tr>\n",
       "    <tr>\n",
       "      <th>1</th>\n",
       "      <td>0.444236</td>\n",
       "      <td>0.864731</td>\n",
       "      <td>0.241209</td>\n",
       "      <td>0.924058</td>\n",
       "    </tr>\n",
       "    <tr>\n",
       "      <th>2</th>\n",
       "      <td>0.331333</td>\n",
       "      <td>0.899847</td>\n",
       "      <td>0.208158</td>\n",
       "      <td>0.936449</td>\n",
       "    </tr>\n",
       "    <tr>\n",
       "      <th>3</th>\n",
       "      <td>0.271613</td>\n",
       "      <td>0.918913</td>\n",
       "      <td>0.182681</td>\n",
       "      <td>0.944058</td>\n",
       "    </tr>\n",
       "    <tr>\n",
       "      <th>4</th>\n",
       "      <td>0.238836</td>\n",
       "      <td>0.928529</td>\n",
       "      <td>0.172116</td>\n",
       "      <td>0.949493</td>\n",
       "    </tr>\n",
       "    <tr>\n",
       "      <th>5</th>\n",
       "      <td>0.213398</td>\n",
       "      <td>0.936611</td>\n",
       "      <td>0.177307</td>\n",
       "      <td>0.947246</td>\n",
       "    </tr>\n",
       "    <tr>\n",
       "      <th>6</th>\n",
       "      <td>0.199836</td>\n",
       "      <td>0.940563</td>\n",
       "      <td>0.153865</td>\n",
       "      <td>0.954565</td>\n",
       "    </tr>\n",
       "    <tr>\n",
       "      <th>7</th>\n",
       "      <td>0.181906</td>\n",
       "      <td>0.945026</td>\n",
       "      <td>0.147741</td>\n",
       "      <td>0.958333</td>\n",
       "    </tr>\n",
       "    <tr>\n",
       "      <th>8</th>\n",
       "      <td>0.173656</td>\n",
       "      <td>0.948389</td>\n",
       "      <td>0.128809</td>\n",
       "      <td>0.961087</td>\n",
       "    </tr>\n",
       "    <tr>\n",
       "      <th>9</th>\n",
       "      <td>0.160735</td>\n",
       "      <td>0.952225</td>\n",
       "      <td>0.123440</td>\n",
       "      <td>0.963841</td>\n",
       "    </tr>\n",
       "  </tbody>\n",
       "</table>\n",
       "</div>"
      ],
      "text/plain": [
       "       loss  accuracy  val_loss  val_accuracy\n",
       "0  1.200324  0.648146  0.372819      0.885435\n",
       "1  0.444236  0.864731  0.241209      0.924058\n",
       "2  0.331333  0.899847  0.208158      0.936449\n",
       "3  0.271613  0.918913  0.182681      0.944058\n",
       "4  0.238836  0.928529  0.172116      0.949493\n",
       "5  0.213398  0.936611  0.177307      0.947246\n",
       "6  0.199836  0.940563  0.153865      0.954565\n",
       "7  0.181906  0.945026  0.147741      0.958333\n",
       "8  0.173656  0.948389  0.128809      0.961087\n",
       "9  0.160735  0.952225  0.123440      0.963841"
      ]
     },
     "execution_count": 38,
     "metadata": {},
     "output_type": "execute_result"
    }
   ],
   "source": [
    "metrics"
   ]
  },
  {
   "cell_type": "code",
   "execution_count": 39,
   "metadata": {},
   "outputs": [
    {
     "data": {
      "text/plain": [
       "<AxesSubplot:>"
      ]
     },
     "execution_count": 39,
     "metadata": {},
     "output_type": "execute_result"
    },
    {
     "data": {
      "image/png": "[encoded data removed]",
      "text/plain": [
       "<Figure size 432x288 with 1 Axes>"
      ]
     },
     "metadata": {
      "needs_background": "light"
     },
     "output_type": "display_data"
    }
   ],
   "source": [
    "metrics[['loss', 'val_loss']].plot()"
   ]
  },
  {
   "cell_type": "code",
   "execution_count": 56,
   "metadata": {},
   "outputs": [],
   "source": [
    "sample_test = (test_dir + '\\\\character_13_daa\\\\10674.png')"
   ]
  },
  {
   "cell_type": "code",
   "execution_count": 57,
   "metadata": {},
   "outputs": [
    {
     "data": {
      "text/plain": [
       "'C:\\\\Users\\\\Himanshi Bansal\\\\Downloads\\\\archive\\\\DevanagariHandwrittenCharacterDataset\\\\DevanagariHandwrittenCharacterDataset//Test\\\\character_13_daa\\\\10674.png'"
      ]
     },
     "execution_count": 57,
     "metadata": {},
     "output_type": "execute_result"
    }
   ],
   "source": [
    "sample_test"
   ]
  },
  {
   "cell_type": "code",
   "execution_count": 60,
   "metadata": {},
   "outputs": [],
   "source": [
    "sample_test = imread(sample_test)\n"
   ]
  },
  {
   "cell_type": "code",
   "execution_count": 63,
   "metadata": {},
   "outputs": [
    {
     "data": {
      "text/plain": [
       "(32, 32)"
      ]
     },
     "execution_count": 63,
     "metadata": {},
     "output_type": "execute_result"
    }
   ],
   "source": [
    "sample_test.shape"
   ]
  },
  {
   "cell_type": "code",
   "execution_count": 77,
   "metadata": {},
   "outputs": [],
   "source": [
    "sample_test_reshaped = sample_test.reshape(32,32,1)"
   ]
  },
  {
   "cell_type": "code",
   "execution_count": 78,
   "metadata": {},
   "outputs": [
    {
     "data": {
      "text/plain": [
       "<matplotlib.image.AxesImage at 0x1bc7ba07f10>"
      ]
     },
     "execution_count": 78,
     "metadata": {},
     "output_type": "execute_result"
    },
    {
     "data": {
      "image/png": "[encoded data removed]",
      "text/plain": [
       "<Figure size 432x288 with 1 Axes>"
      ]
     },
     "metadata": {
      "needs_background": "light"
     },
     "output_type": "display_data"
    }
   ],
   "source": [
    "plt.imshow(sample_test_reshaped)"
   ]
  },
  {
   "cell_type": "code",
   "execution_count": 79,
   "metadata": {},
   "outputs": [],
   "source": [
    "sample_test_reshaped = np.expand_dims(sample_test_reshaped, axis = 0)"
   ]
  },
  {
   "cell_type": "code",
   "execution_count": 80,
   "metadata": {},
   "outputs": [
    {
     "data": {
      "text/plain": [
       "(1, 32, 32, 1)"
      ]
     },
     "execution_count": 80,
     "metadata": {},
     "output_type": "execute_result"
    }
   ],
   "source": [
    "sample_test_reshaped.shape"
   ]
  },
  {
   "cell_type": "code",
   "execution_count": 81,
   "metadata": {},
   "outputs": [
    {
     "data": {
      "text/plain": [
       "array([3], dtype=int64)"
      ]
     },
     "execution_count": 81,
     "metadata": {},
     "output_type": "execute_result"
    }
   ],
   "source": [
    "model.predict_classes(sample_test_reshaped)"
   ]
  },
  {
   "cell_type": "code",
   "execution_count": 82,
   "metadata": {},
   "outputs": [],
   "source": [
    "from tensorflow.keras.models import load_model"
   ]
  },
  {
   "cell_type": "code",
   "execution_count": 83,
   "metadata": {},
   "outputs": [
    {
     "name": "stdout",
     "output_type": "stream",
     "text": [
      "WARNING:tensorflow:From C:\\Users\\Himanshi Bansal\\anaconda3\\envs\\tensorflow\\lib\\site-packages\\tensorflow\\python\\training\\tracking\\tracking.py:111: Model.state_updates (from tensorflow.python.keras.engine.training) is deprecated and will be removed in a future version.\n",
      "Instructions for updating:\n",
      "This property should not be used in TensorFlow 2.0, as updates are applied automatically.\n",
      "WARNING:tensorflow:From C:\\Users\\Himanshi Bansal\\anaconda3\\envs\\tensorflow\\lib\\site-packages\\tensorflow\\python\\training\\tracking\\tracking.py:111: Layer.updates (from tensorflow.python.keras.engine.base_layer) is deprecated and will be removed in a future version.\n",
      "Instructions for updating:\n",
      "This property should not be used in TensorFlow 2.0, as updates are applied automatically.\n",
      "INFO:tensorflow:Assets written to: devnagri_model/h5\\assets\n"
     ]
    }
   ],
   "source": [
    "model.save(\"devnagri_model/h5\")"
   ]
  },
  {
   "cell_type": "code",
   "execution_count": 84,
   "metadata": {},
   "outputs": [
    {
     "data": {
      "text/plain": [
       "'C:\\\\Users\\\\Himanshi Bansal\\\\Downloads'"
      ]
     },
     "execution_count": 84,
     "metadata": {},
     "output_type": "execute_result"
    }
   ],
   "source": []
  },
  {
   "cell_type": "code",
   "execution_count": null,
   "metadata": {},
   "outputs": [],
   "source": []
  }
 ],
 "metadata": {
  "kernelspec": {
   "display_name": "Python 3",
   "language": "python",
   "name": "python3"
  },
  "language_info": {
   "codemirror_mode": {
    "name": "ipython",
    "version": 3
   },
   "file_extension": ".py",
   "mimetype": "text/x-python",
   "name": "python",
   "nbconvert_exporter": "python",
   "pygments_lexer": "ipython3",
   "version": "3.8.8"
  }
 },
 "nbformat": 4,
 "nbformat_minor": 4
}
