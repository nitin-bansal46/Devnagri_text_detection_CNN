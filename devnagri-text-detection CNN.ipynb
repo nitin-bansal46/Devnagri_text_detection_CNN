{
 "cells": [
  {
   "cell_type": "code",
   "execution_count": null,
   "metadata": {
    "_cell_guid": "b1076dfc-b9ad-4769-8c92-a6c4dae69d19",
    "_uuid": "8f2839f25d086af736a60e9eeb907d3b93b6e0e5",
    "execution": {
     "iopub.execute_input": "2021-06-02T04:25:25.424848Z",
     "iopub.status.busy": "2021-06-02T04:25:25.424355Z",
     "iopub.status.idle": "2021-06-02T04:28:26.595916Z",
     "shell.execute_reply": "2021-06-02T04:28:26.554959Z",
     "shell.execute_reply.started": "2021-06-02T04:25:25.424762Z"
    },
    "jupyter": {
     "outputs_hidden": true
    }
   },
   "outputs": [],
   "source": [
    "import numpy as np \n",
    "import pandas as pd \n",
    "\n",
    "\n",
    "import os"
   ]
  },
  {
   "cell_type": "code",
   "execution_count": null,
   "metadata": {
    "execution": {
     "iopub.execute_input": "2021-06-02T04:31:49.66464Z",
     "iopub.status.busy": "2021-06-02T04:31:49.664266Z",
     "iopub.status.idle": "2021-06-02T04:31:49.673057Z",
     "shell.execute_reply": "2021-06-02T04:31:49.671793Z",
     "shell.execute_reply.started": "2021-06-02T04:31:49.66461Z"
    }
   },
   "outputs": [],
   "source": [
    "import matplotlib.pyplot as plt\n",
    "import seaborn as sns\n",
    "from matplotlib.image import imread\n",
    "%matplotlib inline"
   ]
  },
  {
   "cell_type": "code",
   "execution_count": null,
   "metadata": {
    "execution": {
     "iopub.execute_input": "2021-06-02T04:31:51.894938Z",
     "iopub.status.busy": "2021-06-02T04:31:51.894557Z",
     "iopub.status.idle": "2021-06-02T04:31:51.899492Z",
     "shell.execute_reply": "2021-06-02T04:31:51.898153Z",
     "shell.execute_reply.started": "2021-06-02T04:31:51.894906Z"
    }
   },
   "outputs": [],
   "source": [
    "data_dir = (\"C:\\\\Users\\\\YOUR PC\\\\Downloads\\\\archive\\\\DevanagariHandwrittenCharacterDataset\\\\DevanagariHandwrittenCharacterDataset\")"
   ]
  },
  {
   "cell_type": "code",
   "execution_count": null,
   "metadata": {
    "execution": {
     "iopub.execute_input": "2021-06-02T04:31:53.215424Z",
     "iopub.status.busy": "2021-06-02T04:31:53.215009Z",
     "iopub.status.idle": "2021-06-02T04:31:53.227923Z",
     "shell.execute_reply": "2021-06-02T04:31:53.226514Z",
     "shell.execute_reply.started": "2021-06-02T04:31:53.215392Z"
    }
   },
   "outputs": [],
   "source": [
    "os.listdir(data_dir)"
   ]
  },
  {
   "cell_type": "code",
   "execution_count": null,
   "metadata": {
    "execution": {
     "iopub.execute_input": "2021-06-02T04:31:55.59958Z",
     "iopub.status.busy": "2021-06-02T04:31:55.599199Z",
     "iopub.status.idle": "2021-06-02T04:31:55.605024Z",
     "shell.execute_reply": "2021-06-02T04:31:55.603748Z",
     "shell.execute_reply.started": "2021-06-02T04:31:55.599549Z"
    }
   },
   "outputs": [],
   "source": [
    "train_dir = (data_dir + '//Train')\n",
    "test_dir = (data_dir + '//Test')"
   ]
  },
  {
   "cell_type": "code",
   "execution_count": null,
   "metadata": {
    "execution": {
     "iopub.execute_input": "2021-06-02T04:31:56.604601Z",
     "iopub.status.busy": "2021-06-02T04:31:56.604242Z",
     "iopub.status.idle": "2021-06-02T04:31:56.613151Z",
     "shell.execute_reply": "2021-06-02T04:31:56.611863Z",
     "shell.execute_reply.started": "2021-06-02T04:31:56.60457Z"
    }
   },
   "outputs": [],
   "source": [
    "len(os.listdir(train_dir))"
   ]
  },
  {
   "cell_type": "code",
   "execution_count": null,
   "metadata": {
    "execution": {
     "iopub.execute_input": "2021-06-02T04:31:58.53493Z",
     "iopub.status.busy": "2021-06-02T04:31:58.534564Z",
     "iopub.status.idle": "2021-06-02T04:31:58.539893Z",
     "shell.execute_reply": "2021-06-02T04:31:58.538443Z",
     "shell.execute_reply.started": "2021-06-02T04:31:58.534891Z"
    }
   },
   "outputs": [],
   "source": [
    "sample = (train_dir + '/digit_8/' + '/10308.png')"
   ]
  },
  {
   "cell_type": "code",
   "execution_count": null,
   "metadata": {
    "execution": {
     "iopub.execute_input": "2021-06-02T04:32:01.714559Z",
     "iopub.status.busy": "2021-06-02T04:32:01.714201Z",
     "iopub.status.idle": "2021-06-02T04:32:01.920622Z",
     "shell.execute_reply": "2021-06-02T04:32:01.919523Z",
     "shell.execute_reply.started": "2021-06-02T04:32:01.714529Z"
    }
   },
   "outputs": [],
   "source": [
    "plt.imshow(imread(sample))"
   ]
  },
  {
   "cell_type": "code",
   "execution_count": null,
   "metadata": {
    "execution": {
     "iopub.execute_input": "2021-06-02T04:32:03.494946Z",
     "iopub.status.busy": "2021-06-02T04:32:03.494573Z",
     "iopub.status.idle": "2021-06-02T04:32:09.09033Z",
     "shell.execute_reply": "2021-06-02T04:32:09.089228Z",
     "shell.execute_reply.started": "2021-06-02T04:32:03.494915Z"
    }
   },
   "outputs": [],
   "source": [
    "from tensorflow.keras.preprocessing.image import ImageDataGenerator"
   ]
  },
  {
   "cell_type": "code",
   "execution_count": null,
   "metadata": {
    "execution": {
     "iopub.execute_input": "2021-06-02T04:32:09.092715Z",
     "iopub.status.busy": "2021-06-02T04:32:09.092267Z",
     "iopub.status.idle": "2021-06-02T04:32:09.098906Z",
     "shell.execute_reply": "2021-06-02T04:32:09.097584Z",
     "shell.execute_reply.started": "2021-06-02T04:32:09.092671Z"
    }
   },
   "outputs": [],
   "source": [
    "image_gen = ImageDataGenerator(shear_range=0.1, zoom_range=0.2,horizontal_flip=False,fill_mode= 'nearest', rescale=1/255)"
   ]
  },
  {
   "cell_type": "code",
   "execution_count": null,
   "metadata": {
    "execution": {
     "iopub.execute_input": "2021-06-02T04:32:12.305086Z",
     "iopub.status.busy": "2021-06-02T04:32:12.304642Z",
     "iopub.status.idle": "2021-06-02T04:32:12.484883Z",
     "shell.execute_reply": "2021-06-02T04:32:12.483389Z",
     "shell.execute_reply.started": "2021-06-02T04:32:12.305053Z"
    }
   },
   "outputs": [],
   "source": [
    "sample_img = (imread(sample))\n",
    "sample_img = sample_img.reshape(32,32,1)\n",
    "plt.imshow(sample_img)"
   ]
  },
  {
   "cell_type": "code",
   "execution_count": null,
   "metadata": {
    "execution": {
     "iopub.execute_input": "2021-06-02T04:32:14.68463Z",
     "iopub.status.busy": "2021-06-02T04:32:14.684259Z",
     "iopub.status.idle": "2021-06-02T04:32:14.997835Z",
     "shell.execute_reply": "2021-06-02T04:32:14.996514Z",
     "shell.execute_reply.started": "2021-06-02T04:32:14.684599Z"
    }
   },
   "outputs": [],
   "source": [
    "plt.imshow(image_gen.random_transform(sample_img))"
   ]
  },
  {
   "cell_type": "code",
   "execution_count": null,
   "metadata": {
    "execution": {
     "iopub.execute_input": "2021-06-02T04:32:16.39584Z",
     "iopub.status.busy": "2021-06-02T04:32:16.395482Z",
     "iopub.status.idle": "2021-06-02T04:32:22.373476Z",
     "shell.execute_reply": "2021-06-02T04:32:22.372407Z",
     "shell.execute_reply.started": "2021-06-02T04:32:16.395808Z"
    }
   },
   "outputs": [],
   "source": [
    "train_data = image_gen.flow_from_directory(train_dir, target_size=(32,32), color_mode='grayscale')"
   ]
  },
  {
   "cell_type": "code",
   "execution_count": null,
   "metadata": {
    "execution": {
     "iopub.execute_input": "2021-06-02T04:32:22.37687Z",
     "iopub.status.busy": "2021-06-02T04:32:22.376405Z",
     "iopub.status.idle": "2021-06-02T04:32:23.456305Z",
     "shell.execute_reply": "2021-06-02T04:32:23.454203Z",
     "shell.execute_reply.started": "2021-06-02T04:32:22.376832Z"
    }
   },
   "outputs": [],
   "source": [
    "test_data = image_gen.flow_from_directory(test_dir, target_size=(32,32), shuffle=False, color_mode = 'grayscale')"
   ]
  },
  {
   "cell_type": "code",
   "execution_count": null,
   "metadata": {
    "execution": {
     "iopub.execute_input": "2021-06-02T04:32:27.695991Z",
     "iopub.status.busy": "2021-06-02T04:32:27.69564Z",
     "iopub.status.idle": "2021-06-02T04:32:27.703236Z",
     "shell.execute_reply": "2021-06-02T04:32:27.70198Z",
     "shell.execute_reply.started": "2021-06-02T04:32:27.695962Z"
    }
   },
   "outputs": [],
   "source": [
    "from tensorflow.keras.models import Sequential"
   ]
  },
  {
   "cell_type": "code",
   "execution_count": null,
   "metadata": {
    "execution": {
     "iopub.execute_input": "2021-06-02T04:32:29.674634Z",
     "iopub.status.busy": "2021-06-02T04:32:29.674262Z",
     "iopub.status.idle": "2021-06-02T04:32:29.680605Z",
     "shell.execute_reply": "2021-06-02T04:32:29.678989Z",
     "shell.execute_reply.started": "2021-06-02T04:32:29.674603Z"
    }
   },
   "outputs": [],
   "source": [
    "from tensorflow.keras.layers import Conv2D,MaxPool2D,Dense,Flatten,Dropout"
   ]
  },
  {
   "cell_type": "code",
   "execution_count": null,
   "metadata": {
    "execution": {
     "iopub.execute_input": "2021-06-02T04:32:34.074893Z",
     "iopub.status.busy": "2021-06-02T04:32:34.074524Z",
     "iopub.status.idle": "2021-06-02T04:32:36.613027Z",
     "shell.execute_reply": "2021-06-02T04:32:36.611962Z",
     "shell.execute_reply.started": "2021-06-02T04:32:34.074861Z"
    }
   },
   "outputs": [],
   "source": [
    "model = Sequential()\n",
    "\n",
    "model.add(Conv2D(filters = 32, kernel_size = (4,4), input_shape = (32,32,1), activation = 'relu'))\n",
    "model.add(MaxPool2D(pool_size=(2,2)))\n",
    "\n",
    "model.add(Conv2D(filters = 64, kernel_size = (4,4), input_shape = (32,32,1), activation = 'relu'))\n",
    "model.add(MaxPool2D(pool_size=(2,2)))\n",
    "\n",
    "model.add(Conv2D(filters = 64, kernel_size = (4,4), input_shape = (32,32,1), activation = 'relu'))\n",
    "model.add(MaxPool2D(pool_size=(2,2)))\n",
    "\n",
    "model.add(Flatten())\n",
    "\n",
    "model.add(Dense(128, activation = 'relu'))\n",
    "model.add(Dropout(0.5))\n",
    "\n",
    "model.add(Dense(84, activation = 'relu'))\n",
    "\n",
    "model.add(Dense(46, activation = 'softmax'))\n",
    "\n",
    "model.compile(optimizer='adam', loss = 'categorical_crossentropy', metrics = ['accuracy'])"
   ]
  },
  {
   "cell_type": "code",
   "execution_count": null,
   "metadata": {
    "execution": {
     "iopub.execute_input": "2021-06-02T04:32:37.414464Z",
     "iopub.status.busy": "2021-06-02T04:32:37.414066Z",
     "iopub.status.idle": "2021-06-02T04:32:37.429811Z",
     "shell.execute_reply": "2021-06-02T04:32:37.428585Z",
     "shell.execute_reply.started": "2021-06-02T04:32:37.414432Z"
    }
   },
   "outputs": [],
   "source": [
    "model.summary()"
   ]
  },
  {
   "cell_type": "code",
   "execution_count": null,
   "metadata": {
    "execution": {
     "iopub.execute_input": "2021-06-02T04:32:51.824865Z",
     "iopub.status.busy": "2021-06-02T04:32:51.824553Z",
     "iopub.status.idle": "2021-06-02T04:32:51.830058Z",
     "shell.execute_reply": "2021-06-02T04:32:51.828426Z",
     "shell.execute_reply.started": "2021-06-02T04:32:51.824838Z"
    }
   },
   "outputs": [],
   "source": [
    "from tensorflow.keras.callbacks import EarlyStopping"
   ]
  },
  {
   "cell_type": "code",
   "execution_count": null,
   "metadata": {
    "execution": {
     "iopub.execute_input": "2021-06-02T04:32:54.004486Z",
     "iopub.status.busy": "2021-06-02T04:32:54.004136Z",
     "iopub.status.idle": "2021-06-02T04:32:54.010282Z",
     "shell.execute_reply": "2021-06-02T04:32:54.008668Z",
     "shell.execute_reply.started": "2021-06-02T04:32:54.004458Z"
    }
   },
   "outputs": [],
   "source": [
    "early_stop = EarlyStopping(monitor='val_loss', patience=2)"
   ]
  },
  {
   "cell_type": "code",
   "execution_count": null,
   "metadata": {
    "execution": {
     "iopub.execute_input": "2021-06-02T04:32:56.134647Z",
     "iopub.status.busy": "2021-06-02T04:32:56.134256Z",
     "iopub.status.idle": "2021-06-02T04:32:56.143023Z",
     "shell.execute_reply": "2021-06-02T04:32:56.141653Z",
     "shell.execute_reply.started": "2021-06-02T04:32:56.134618Z"
    }
   },
   "outputs": [],
   "source": [
    "train_data.class_indices"
   ]
  },
  {
   "cell_type": "code",
   "execution_count": null,
   "metadata": {
    "execution": {
     "iopub.execute_input": "2021-06-02T04:32:58.304452Z",
     "iopub.status.busy": "2021-06-02T04:32:58.304076Z"
    }
   },
   "outputs": [],
   "source": [
    "results = model.fit(train_data, epochs = 10, validation_data=(test_data), callbacks=[early_stop])"
   ]
  },
  {
   "cell_type": "code",
   "execution_count": null,
   "metadata": {},
   "outputs": [],
   "source": [
    "metrics = pd.DataFrame(model.history.history)"
   ]
  },
  {
   "cell_type": "code",
   "execution_count": null,
   "metadata": {},
   "outputs": [],
   "source": [
    "metrics"
   ]
  },
  {
   "cell_type": "code",
   "execution_count": null,
   "metadata": {},
   "outputs": [],
   "source": [
    "metrics[['loss', 'val_loss']].plot()"
   ]
  },
  {
   "cell_type": "code",
   "execution_count": null,
   "metadata": {},
   "outputs": [],
   "source": [
    "sample_test = (test_dir + '\\\\character_13_daa\\\\10674.png')"
   ]
  },
  {
   "cell_type": "code",
   "execution_count": null,
   "metadata": {},
   "outputs": [],
   "source": [
    "#sample_test"
   ]
  },
  {
   "cell_type": "code",
   "execution_count": null,
   "metadata": {},
   "outputs": [],
   "source": [
    "sample_test = imread(sample_test)\n"
   ]
  },
  {
   "cell_type": "code",
   "execution_count": null,
   "metadata": {},
   "outputs": [],
   "source": [
    "sample_test.shape"
   ]
  },
  {
   "cell_type": "code",
   "execution_count": null,
   "metadata": {},
   "outputs": [],
   "source": [
    "sample_test_reshaped = sample_test.reshape(32,32,1)"
   ]
  },
  {
   "cell_type": "code",
   "execution_count": null,
   "metadata": {},
   "outputs": [],
   "source": [
    "plt.imshow(sample_test_reshaped)"
   ]
  },
  {
   "cell_type": "code",
   "execution_count": null,
   "metadata": {},
   "outputs": [],
   "source": [
    "sample_test_reshaped = np.expand_dims(sample_test_reshaped, axis = 0)"
   ]
  },
  {
   "cell_type": "code",
   "execution_count": null,
   "metadata": {},
   "outputs": [],
   "source": [
    "sample_test_reshaped.shape"
   ]
  },
  {
   "cell_type": "code",
   "execution_count": null,
   "metadata": {},
   "outputs": [],
   "source": [
    "model.predict_classes(sample_test_reshaped)"
   ]
  },
  {
   "cell_type": "code",
   "execution_count": null,
   "metadata": {},
   "outputs": [],
   "source": [
    "from tensorflow.keras.models import load_model"
   ]
  },
  {
   "cell_type": "code",
   "execution_count": null,
   "metadata": {},
   "outputs": [],
   "source": [
    "model.save(\"devnagri_model/h5\")"
   ]
  }
 ],
 "metadata": {
  "kernelspec": {
   "display_name": "Python 3",
   "language": "python",
   "name": "python3"
  },
  "language_info": {
   "codemirror_mode": {
    "name": "ipython",
    "version": 3
   },
   "file_extension": ".py",
   "mimetype": "text/x-python",
   "name": "python",
   "nbconvert_exporter": "python",
   "pygments_lexer": "ipython3",
   "version": "3.8.8"
  }
 },
 "nbformat": 4,
 "nbformat_minor": 4
}
